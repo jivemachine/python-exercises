{
 "cells": [
  {
   "cell_type": "markdown",
   "metadata": {},
   "source": [
    "### 1.) Use pandas to create a Series from the following data:\n"
   ]
  },
  {
   "cell_type": "code",
   "execution_count": 1,
   "metadata": {},
   "outputs": [
    {
     "data": {
      "text/plain": [
       "['kiwi',\n",
       " 'mango',\n",
       " 'strawberry',\n",
       " 'pineapple',\n",
       " 'gala apple',\n",
       " 'honeycrisp apple',\n",
       " 'tomato',\n",
       " 'watermelon',\n",
       " 'honeydew',\n",
       " 'kiwi',\n",
       " 'kiwi',\n",
       " 'kiwi',\n",
       " 'mango',\n",
       " 'blueberry',\n",
       " 'blackberry',\n",
       " 'gooseberry',\n",
       " 'papaya']"
      ]
     },
     "execution_count": 1,
     "metadata": {},
     "output_type": "execute_result"
    }
   ],
   "source": [
    "[\"kiwi\", \"mango\", \"strawberry\", \"pineapple\", \"gala apple\", \"honeycrisp apple\", \"tomato\", \"watermelon\", \"honeydew\", \"kiwi\", \"kiwi\", \"kiwi\", \"mango\", \"blueberry\", \"blackberry\", \"gooseberry\", \"papaya\"]\n"
   ]
  },
  {
   "cell_type": "code",
   "execution_count": 2,
   "metadata": {},
   "outputs": [],
   "source": [
    "import pandas as pd"
   ]
  },
  {
   "cell_type": "markdown",
   "metadata": {},
   "source": [
    "### a. Name the variable that holds the series fruits."
   ]
  },
  {
   "cell_type": "code",
   "execution_count": 3,
   "metadata": {},
   "outputs": [
    {
     "data": {
      "text/plain": [
       "0                 kiwi\n",
       "1                mango\n",
       "2           strawberry\n",
       "3            pineapple\n",
       "4           gala apple\n",
       "5     honeycrisp apple\n",
       "6               tomato\n",
       "7           watermelon\n",
       "8             honeydew\n",
       "9                 kiwi\n",
       "10                kiwi\n",
       "11                kiwi\n",
       "12               mango\n",
       "13           blueberry\n",
       "14          blackberry\n",
       "15          gooseberry\n",
       "16              papaya\n",
       "dtype: object"
      ]
     },
     "execution_count": 3,
     "metadata": {},
     "output_type": "execute_result"
    }
   ],
   "source": [
    "fruits = pd.Series(['kiwi',\n",
    " 'mango',\n",
    " 'strawberry',\n",
    " 'pineapple',\n",
    " 'gala apple',\n",
    " 'honeycrisp apple',\n",
    " 'tomato',\n",
    " 'watermelon',\n",
    " 'honeydew',\n",
    " 'kiwi',\n",
    " 'kiwi',\n",
    " 'kiwi',\n",
    " 'mango',\n",
    " 'blueberry',\n",
    " 'blackberry',\n",
    " 'gooseberry',\n",
    " 'papaya'])\n",
    "\n",
    "fruits"
   ]
  },
  {
   "cell_type": "markdown",
   "metadata": {},
   "source": [
    "### b. Run .describe() on the series to see what describe returns for a series of strings."
   ]
  },
  {
   "cell_type": "code",
   "execution_count": 4,
   "metadata": {},
   "outputs": [
    {
     "data": {
      "text/plain": [
       "count       17\n",
       "unique      13\n",
       "top       kiwi\n",
       "freq         4\n",
       "dtype: object"
      ]
     },
     "execution_count": 4,
     "metadata": {},
     "output_type": "execute_result"
    }
   ],
   "source": [
    "fruits.describe()"
   ]
  },
  {
   "cell_type": "markdown",
   "metadata": {},
   "source": [
    "### c. Run the code necessary to produce only the unique fruit names."
   ]
  },
  {
   "cell_type": "code",
   "execution_count": 5,
   "metadata": {},
   "outputs": [
    {
     "data": {
      "text/plain": [
       "array(['kiwi', 'mango', 'strawberry', 'pineapple', 'gala apple',\n",
       "       'honeycrisp apple', 'tomato', 'watermelon', 'honeydew',\n",
       "       'blueberry', 'blackberry', 'gooseberry', 'papaya'], dtype=object)"
      ]
     },
     "execution_count": 5,
     "metadata": {},
     "output_type": "execute_result"
    }
   ],
   "source": [
    "fruits.unique()"
   ]
  },
  {
   "cell_type": "markdown",
   "metadata": {},
   "source": [
    "### D. Determine how many times each value occurs in the series."
   ]
  },
  {
   "cell_type": "code",
   "execution_count": 6,
   "metadata": {},
   "outputs": [
    {
     "data": {
      "text/plain": [
       "kiwi                4\n",
       "mango               2\n",
       "tomato              1\n",
       "honeycrisp apple    1\n",
       "watermelon          1\n",
       "gooseberry          1\n",
       "papaya              1\n",
       "blueberry           1\n",
       "gala apple          1\n",
       "strawberry          1\n",
       "blackberry          1\n",
       "honeydew            1\n",
       "pineapple           1\n",
       "dtype: int64"
      ]
     },
     "execution_count": 6,
     "metadata": {},
     "output_type": "execute_result"
    }
   ],
   "source": [
    "fruits.value_counts()"
   ]
  },
  {
   "cell_type": "markdown",
   "metadata": {},
   "source": [
    "### e. Determine the most frequently occurring fruit name from the series."
   ]
  },
  {
   "cell_type": "code",
   "execution_count": 7,
   "metadata": {},
   "outputs": [
    {
     "data": {
      "text/plain": [
       "kiwi    4\n",
       "dtype: int64"
      ]
     },
     "execution_count": 7,
     "metadata": {},
     "output_type": "execute_result"
    }
   ],
   "source": [
    "fruits.value_counts().sort_values().tail(1)"
   ]
  },
  {
   "cell_type": "markdown",
   "metadata": {},
   "source": [
    "### f. Determine the least frequently occurring fruit name from the series."
   ]
  },
  {
   "cell_type": "code",
   "execution_count": 58,
   "metadata": {},
   "outputs": [
    {
     "data": {
      "text/plain": [
       "tomato              1\n",
       "honeycrisp apple    1\n",
       "watermelon          1\n",
       "gooseberry          1\n",
       "papaya              1\n",
       "blueberry           1\n",
       "gala apple          1\n",
       "strawberry          1\n",
       "blackberry          1\n",
       "honeydew            1\n",
       "pineapple           1\n",
       "dtype: int64"
      ]
     },
     "execution_count": 58,
     "metadata": {},
     "output_type": "execute_result"
    }
   ],
   "source": [
    "fruits.value_counts().nsmallest(keep=\"all\")\n"
   ]
  },
  {
   "cell_type": "markdown",
   "metadata": {},
   "source": [
    "### g. Write the code to get the longest string from the fruits series."
   ]
  },
  {
   "cell_type": "code",
   "execution_count": 9,
   "metadata": {},
   "outputs": [
    {
     "data": {
      "text/plain": [
       "'watermelon'"
      ]
     },
     "execution_count": 9,
     "metadata": {},
     "output_type": "execute_result"
    }
   ],
   "source": [
    "fruits.max()"
   ]
  },
  {
   "cell_type": "markdown",
   "metadata": {},
   "source": [
    "### h. Find the fruit(s) with 5 or more letters in the name."
   ]
  },
  {
   "cell_type": "code",
   "execution_count": 10,
   "metadata": {},
   "outputs": [
    {
     "data": {
      "text/plain": [
       "1                mango\n",
       "2           strawberry\n",
       "3            pineapple\n",
       "4           gala apple\n",
       "5     honeycrisp apple\n",
       "6               tomato\n",
       "7           watermelon\n",
       "8             honeydew\n",
       "12               mango\n",
       "13           blueberry\n",
       "14          blackberry\n",
       "15          gooseberry\n",
       "16              papaya\n",
       "dtype: object"
      ]
     },
     "execution_count": 10,
     "metadata": {},
     "output_type": "execute_result"
    }
   ],
   "source": [
    "fruits[fruits.str.len() >= 5]"
   ]
  },
  {
   "cell_type": "markdown",
   "metadata": {},
   "source": [
    "### i. Capitalize all the fruit strings in the series."
   ]
  },
  {
   "cell_type": "code",
   "execution_count": 11,
   "metadata": {},
   "outputs": [
    {
     "data": {
      "text/plain": [
       "0                 KIWI\n",
       "1                MANGO\n",
       "2           STRAWBERRY\n",
       "3            PINEAPPLE\n",
       "4           GALA APPLE\n",
       "5     HONEYCRISP APPLE\n",
       "6               TOMATO\n",
       "7           WATERMELON\n",
       "8             HONEYDEW\n",
       "9                 KIWI\n",
       "10                KIWI\n",
       "11                KIWI\n",
       "12               MANGO\n",
       "13           BLUEBERRY\n",
       "14          BLACKBERRY\n",
       "15          GOOSEBERRY\n",
       "16              PAPAYA\n",
       "dtype: object"
      ]
     },
     "execution_count": 11,
     "metadata": {},
     "output_type": "execute_result"
    }
   ],
   "source": [
    "fruits.str.upper()"
   ]
  },
  {
   "cell_type": "markdown",
   "metadata": {},
   "source": [
    "### j. Count the letter \"a\" in all the fruits (use string vectorization)"
   ]
  },
  {
   "cell_type": "code",
   "execution_count": 60,
   "metadata": {},
   "outputs": [
    {
     "data": {
      "text/plain": [
       "14"
      ]
     },
     "execution_count": 60,
     "metadata": {},
     "output_type": "execute_result"
    }
   ],
   "source": [
    "fruits.str.count('a').sum()\n"
   ]
  },
  {
   "cell_type": "markdown",
   "metadata": {},
   "source": [
    "### k. Output the number of vowels in each and every fruit."
   ]
  },
  {
   "cell_type": "code",
   "execution_count": 13,
   "metadata": {},
   "outputs": [
    {
     "data": {
      "text/plain": [
       "0     2\n",
       "1     2\n",
       "2     2\n",
       "3     4\n",
       "4     4\n",
       "5     5\n",
       "6     3\n",
       "7     4\n",
       "8     3\n",
       "9     2\n",
       "10    2\n",
       "11    2\n",
       "12    2\n",
       "13    3\n",
       "14    2\n",
       "15    4\n",
       "16    3\n",
       "dtype: int64"
      ]
     },
     "execution_count": 13,
     "metadata": {},
     "output_type": "execute_result"
    }
   ],
   "source": [
    "fruits.str.count('[aeiou]')\n",
    "\n",
    "\n",
    "fruits.str.count('[aeiou]')"
   ]
  },
  {
   "cell_type": "markdown",
   "metadata": {},
   "source": [
    "### l. Use the .apply method and a lambda function to find the fruit(s) containing two or more \"o\" letters in the name."
   ]
  },
  {
   "cell_type": "code",
   "execution_count": 63,
   "metadata": {},
   "outputs": [
    {
     "data": {
      "text/plain": [
       "6         tomato\n",
       "15    gooseberry\n",
       "dtype: object"
      ]
     },
     "execution_count": 63,
     "metadata": {},
     "output_type": "execute_result"
    }
   ],
   "source": [
    "fruits[fruits.apply(lambda x: x.count(\"o\") >= 2)]"
   ]
  },
  {
   "cell_type": "markdown",
   "metadata": {},
   "source": [
    "### m. Write the code to get only the fruits containing \"berry\" in the name"
   ]
  },
  {
   "cell_type": "code",
   "execution_count": 15,
   "metadata": {},
   "outputs": [
    {
     "data": {
      "text/plain": [
       "2     strawberry\n",
       "13     blueberry\n",
       "14    blackberry\n",
       "15    gooseberry\n",
       "dtype: object"
      ]
     },
     "execution_count": 15,
     "metadata": {},
     "output_type": "execute_result"
    }
   ],
   "source": [
    "fruits[fruits.str.contains(\"berry\", regex=True)]"
   ]
  },
  {
   "cell_type": "markdown",
   "metadata": {},
   "source": [
    "### n. Write the code to get only the fruits containing \"apple\" in the name"
   ]
  },
  {
   "cell_type": "code",
   "execution_count": 16,
   "metadata": {},
   "outputs": [
    {
     "data": {
      "text/plain": [
       "3           pineapple\n",
       "4          gala apple\n",
       "5    honeycrisp apple\n",
       "dtype: object"
      ]
     },
     "execution_count": 16,
     "metadata": {},
     "output_type": "execute_result"
    }
   ],
   "source": [
    "fruits[fruits.str.contains(\"apple\", regex=True)]"
   ]
  },
  {
   "cell_type": "markdown",
   "metadata": {},
   "source": [
    "### o. Which fruit has the highest amount of vowels?"
   ]
  },
  {
   "cell_type": "code",
   "execution_count": 17,
   "metadata": {},
   "outputs": [
    {
     "data": {
      "text/plain": [
       "'honeycrisp apple'"
      ]
     },
     "execution_count": 17,
     "metadata": {},
     "output_type": "execute_result"
    }
   ],
   "source": [
    "fruits[fruits.str.count('[aeiou]').max()]"
   ]
  },
  {
   "cell_type": "markdown",
   "metadata": {},
   "source": [
    "## 2.) Use pandas to create a Series from the following data:"
   ]
  },
  {
   "cell_type": "code",
   "execution_count": 18,
   "metadata": {},
   "outputs": [
    {
     "data": {
      "text/plain": [
       "['$796,459.41',\n",
       " '$278.60',\n",
       " '$482,571.67',\n",
       " '$4,503,915.98',\n",
       " '$2,121,418.3',\n",
       " '$1,260,813.3',\n",
       " '$87,231.01',\n",
       " '$1,509,175.45',\n",
       " '$4,138,548.00',\n",
       " '$2,848,913.80',\n",
       " '$594,715.39',\n",
       " '$4,789,988.17',\n",
       " '$4,513,644.5',\n",
       " '$3,191,059.97',\n",
       " '$1,758,712.24',\n",
       " '$4,338,283.54',\n",
       " '$4,738,303.38',\n",
       " '$2,791,759.67',\n",
       " '$769,681.94',\n",
       " '$452,650.23']"
      ]
     },
     "execution_count": 18,
     "metadata": {},
     "output_type": "execute_result"
    }
   ],
   "source": [
    "['$796,459.41', '$278.60', '$482,571.67', '$4,503,915.98', '$2,121,418.3', '$1,260,813.3', '$87,231.01', '$1,509,175.45', '$4,138,548.00', '$2,848,913.80', '$594,715.39', '$4,789,988.17', '$4,513,644.5', '$3,191,059.97', '$1,758,712.24', '$4,338,283.54', '$4,738,303.38', '$2,791,759.67', '$769,681.94', '$452,650.23']"
   ]
  },
  {
   "cell_type": "code",
   "execution_count": 19,
   "metadata": {},
   "outputs": [],
   "source": [
    "cash = pd.Series(['$796,459.41',\n",
    " '$278.60',\n",
    " '$482,571.67',\n",
    " '$4,503,915.98',\n",
    " '$2,121,418.3',\n",
    " '$1,260,813.3',\n",
    " '$87,231.01',\n",
    " '$1,509,175.45',\n",
    " '$4,138,548.00',\n",
    " '$2,848,913.80',\n",
    " '$594,715.39',\n",
    " '$4,789,988.17',\n",
    " '$4,513,644.5',\n",
    " '$3,191,059.97',\n",
    " '$1,758,712.24',\n",
    " '$4,338,283.54',\n",
    " '$4,738,303.38',\n",
    " '$2,791,759.67',\n",
    " '$769,681.94',\n",
    " '$452,650.23'])\n"
   ]
  },
  {
   "cell_type": "markdown",
   "metadata": {},
   "source": [
    "- What is the data type of the series?"
   ]
  },
  {
   "cell_type": "code",
   "execution_count": 20,
   "metadata": {},
   "outputs": [
    {
     "data": {
      "text/plain": [
       "dtype('O')"
      ]
     },
     "execution_count": 20,
     "metadata": {},
     "output_type": "execute_result"
    }
   ],
   "source": [
    "cash.dtype"
   ]
  },
  {
   "cell_type": "markdown",
   "metadata": {},
   "source": [
    "- Use series operations to convert the series to a numeric data type."
   ]
  },
  {
   "cell_type": "code",
   "execution_count": 21,
   "metadata": {},
   "outputs": [
    {
     "name": "stdout",
     "output_type": "stream",
     "text": [
      "0      796459.41\n",
      "1         278.60\n",
      "2      482571.67\n",
      "3     4503915.98\n",
      "4     2121418.30\n",
      "5     1260813.30\n",
      "6       87231.01\n",
      "7     1509175.45\n",
      "8     4138548.00\n",
      "9     2848913.80\n",
      "10     594715.39\n",
      "11    4789988.17\n",
      "12    4513644.50\n",
      "13    3191059.97\n",
      "14    1758712.24\n",
      "15    4338283.54\n",
      "16    4738303.38\n",
      "17    2791759.67\n",
      "18     769681.94\n",
      "19     452650.23\n",
      "dtype: float64\n"
     ]
    }
   ],
   "source": [
    "def become_money(cash):\n",
    "    for money in cash:\n",
    "        if \"$\" in money:\n",
    "            money.replace(\"$\",\"\")\n",
    "    return cash\n",
    "\n",
    "cash_list = cash.str.replace(\"$\", \"\").str.replace(\",\",\"\").astype(float)\n",
    "print(cash_list)"
   ]
  },
  {
   "cell_type": "markdown",
   "metadata": {},
   "source": [
    "- What is the maximum value? The minimum?"
   ]
  },
  {
   "cell_type": "code",
   "execution_count": 22,
   "metadata": {},
   "outputs": [
    {
     "name": "stdout",
     "output_type": "stream",
     "text": [
      "4789988.17\n",
      "278.6\n"
     ]
    }
   ],
   "source": [
    "print(cash_list.max())\n",
    "\n",
    "print(cash_list.min())"
   ]
  },
  {
   "cell_type": "markdown",
   "metadata": {},
   "source": [
    "- Bin the data into 4 equally sized intervals and show how many values fall into each bin."
   ]
  },
  {
   "cell_type": "code",
   "execution_count": 64,
   "metadata": {},
   "outputs": [
    {
     "data": {
      "text/plain": [
       "(-4511.11, 1197705.993]       7\n",
       "(1197705.993, 2395133.385]    4\n",
       "(2395133.385, 3592560.778]    3\n",
       "(3592560.778, 4789988.17]     6\n",
       "dtype: int64"
      ]
     },
     "execution_count": 64,
     "metadata": {},
     "output_type": "execute_result"
    }
   ],
   "source": [
    "pd.cut(cash_list, 4).value_counts().sort_index()"
   ]
  },
  {
   "cell_type": "markdown",
   "metadata": {},
   "source": [
    "- Plot a histogram of the data. Be sure to include a title and axis labels."
   ]
  },
  {
   "cell_type": "code",
   "execution_count": 65,
   "metadata": {},
   "outputs": [
    {
     "data": {
      "text/plain": [
       "<matplotlib.axes._subplots.AxesSubplot at 0x123756290>"
      ]
     },
     "execution_count": 65,
     "metadata": {},
     "output_type": "execute_result"
    },
    {
     "data": {
      "image/png": "[encoded data removed]",
      "text/plain": [
       "<Figure size 432x288 with 1 Axes>"
      ]
     },
     "metadata": {
      "needs_background": "light"
     },
     "output_type": "display_data"
    }
   ],
   "source": [
    "cash_list.plot.hist()"
   ]
  },
  {
   "cell_type": "markdown",
   "metadata": {},
   "source": [
    "## 3.) Use pandas to create a Series from the following exam scores:"
   ]
  },
  {
   "cell_type": "code",
   "execution_count": 25,
   "metadata": {},
   "outputs": [
    {
     "data": {
      "text/plain": [
       "[60,\n",
       " 86,\n",
       " 75,\n",
       " 62,\n",
       " 93,\n",
       " 71,\n",
       " 60,\n",
       " 83,\n",
       " 95,\n",
       " 78,\n",
       " 65,\n",
       " 72,\n",
       " 69,\n",
       " 81,\n",
       " 96,\n",
       " 80,\n",
       " 85,\n",
       " 92,\n",
       " 82,\n",
       " 78]"
      ]
     },
     "execution_count": 25,
     "metadata": {},
     "output_type": "execute_result"
    }
   ],
   "source": [
    "[60, 86, 75, 62, 93, 71, 60, 83, 95, 78, 65, 72, 69, 81, 96, 80, 85, 92, 82, 78]"
   ]
  },
  {
   "cell_type": "code",
   "execution_count": 26,
   "metadata": {},
   "outputs": [],
   "source": [
    "numbers = pd.Series([60, 86, 75, 62, 93, 71, 60, 83, 95, 78, 65, 72, 69, 81, 96, 80, 85, 92, 82, 78])"
   ]
  },
  {
   "cell_type": "markdown",
   "metadata": {},
   "source": [
    "- What is the minimum exam score? The max, mean, median?"
   ]
  },
  {
   "cell_type": "code",
   "execution_count": 27,
   "metadata": {},
   "outputs": [
    {
     "name": "stdout",
     "output_type": "stream",
     "text": [
      "The median 79.0\n",
      "The max 96\n",
      "The mean 78.15\n",
      "The minnimum 60\n"
     ]
    }
   ],
   "source": [
    "print(f\"The median {numbers.median()}\")\n",
    "print(f\"The max {numbers.max()}\")\n",
    "print(f\"The mean {numbers.mean()}\")\n",
    "print(f\"The minnimum {numbers.min()}\")"
   ]
  },
  {
   "cell_type": "markdown",
   "metadata": {},
   "source": [
    "- Plot a histogram of the scores."
   ]
  },
  {
   "cell_type": "code",
   "execution_count": 67,
   "metadata": {},
   "outputs": [
    {
     "data": {
      "text/plain": [
       "<matplotlib.axes._subplots.AxesSubplot at 0x12392b750>"
      ]
     },
     "execution_count": 67,
     "metadata": {},
     "output_type": "execute_result"
    },
    {
     "data": {
      "image/png": "[encoded data removed]",
      "text/plain": [
       "<Figure size 432x288 with 1 Axes>"
      ]
     },
     "metadata": {
      "needs_background": "light"
     },
     "output_type": "display_data"
    }
   ],
   "source": [
    "numbers.plot.hist()"
   ]
  },
  {
   "cell_type": "markdown",
   "metadata": {},
   "source": [
    "- Convert each of the numbers above into a letter grade. For example, 86 should be a 'B' and 95 should be an 'A'."
   ]
  },
  {
   "cell_type": "code",
   "execution_count": 29,
   "metadata": {},
   "outputs": [
    {
     "name": "stdout",
     "output_type": "stream",
     "text": [
      "0     F\n",
      "1     B\n",
      "2     C\n",
      "3     F\n",
      "4     A\n",
      "5     C\n",
      "6     F\n",
      "7     B\n",
      "8     A\n",
      "9     C\n",
      "10    F\n",
      "11    C\n",
      "12    F\n",
      "13    B\n",
      "14    A\n",
      "15    B\n",
      "16    B\n",
      "17    A\n",
      "18    B\n",
      "19    C\n",
      "dtype: object\n",
      "0     60\n",
      "1     86\n",
      "2     75\n",
      "3     62\n",
      "4     93\n",
      "5     71\n",
      "6     60\n",
      "7     83\n",
      "8     95\n",
      "9     78\n",
      "10    65\n",
      "11    72\n",
      "12    69\n",
      "13    81\n",
      "14    96\n",
      "15    80\n",
      "16    85\n",
      "17    92\n",
      "18    82\n",
      "19    78\n",
      "dtype: int64\n"
     ]
    }
   ],
   "source": [
    "def grade(x):\n",
    "    if x >= 90:\n",
    "        return \"A\"\n",
    "    elif x >= 80:\n",
    "        return \"B\"\n",
    "    elif x >= 70:\n",
    "        return \"C\"\n",
    "    else:\n",
    "        return \"F\"\n",
    "\n",
    "\n",
    "print(numbers.apply(grade))\n",
    "print(numbers)\n"
   ]
  },
  {
   "cell_type": "markdown",
   "metadata": {},
   "source": [
    "- Write the code necessary to implement a curve. I.e. that grade closest to 100 should be converted to a 100, and that many points should be given to every other score as well."
   ]
  },
  {
   "cell_type": "code",
   "execution_count": 30,
   "metadata": {},
   "outputs": [
    {
     "data": {
      "text/plain": [
       "0      64\n",
       "1      90\n",
       "2      79\n",
       "3      66\n",
       "4      97\n",
       "5      75\n",
       "6      64\n",
       "7      87\n",
       "8      99\n",
       "9      82\n",
       "10     69\n",
       "11     76\n",
       "12     73\n",
       "13     85\n",
       "14    100\n",
       "15     84\n",
       "16     89\n",
       "17     96\n",
       "18     86\n",
       "19     82\n",
       "dtype: int64"
      ]
     },
     "execution_count": 30,
     "metadata": {},
     "output_type": "execute_result"
    }
   ],
   "source": [
    "\n",
    "curve = 100 - numbers.max()\n",
    "\n",
    "numbers + curve"
   ]
  },
  {
   "cell_type": "markdown",
   "metadata": {},
   "source": [
    "## 4.) Use pandas to create a Series from the following string:"
   ]
  },
  {
   "cell_type": "code",
   "execution_count": 31,
   "metadata": {},
   "outputs": [
    {
     "data": {
      "text/plain": [
       "'hnvidduckkqxwymbimkccexbkmqygkxoyndmcxnwqarhyffsjpsrabtjzsypmzadfavyrnndndvswreauxovncxtwzpwejilzjrmmbbgbyxvjtewqthafnbkqplarokkyydtubbmnexoypulzwfhqvckdpqtpoppzqrmcvhhpwgjwupgzhiofohawytlsiyecuproguy'"
      ]
     },
     "execution_count": 31,
     "metadata": {},
     "output_type": "execute_result"
    }
   ],
   "source": [
    "'hnvidduckkqxwymbimkccexbkmqygkxoyndmcxnwqarhyffsjpsrabtjzsypmzadfavyrnndndvswreauxovncxtwzpwejilzjrmmbbgbyxvjtewqthafnbkqplarokkyydtubbmnexoypulzwfhqvckdpqtpoppzqrmcvhhpwgjwupgzhiofohawytlsiyecuproguy'"
   ]
  },
  {
   "cell_type": "code",
   "execution_count": 32,
   "metadata": {},
   "outputs": [
    {
     "data": {
      "text/plain": [
       "count     200\n",
       "unique     26\n",
       "top         y\n",
       "freq       13\n",
       "dtype: object"
      ]
     },
     "execution_count": 32,
     "metadata": {},
     "output_type": "execute_result"
    }
   ],
   "source": [
    "letters = list('hnvidduckkqxwymbimkccexbkmqygkxoyndmcxnwqarhyffsjpsrabtjzsypmzadfavyrnndndvswreauxovncxtwzpwejilzjrmmbbgbyxvjtewqthafnbkqplarokkyydtubbmnexoypulzwfhqvckdpqtpoppzqrmcvhhpwgjwupgzhiofohawytlsiyecuproguy')\n",
    "\n",
    "letters = pd.Series(letters)\n",
    "\n",
    "letters.describe()\n",
    "\n",
    "\n"
   ]
  },
  {
   "cell_type": "markdown",
   "metadata": {},
   "source": [
    "- What is the most frequently occuring letter? Least frequently occuring?"
   ]
  },
  {
   "cell_type": "code",
   "execution_count": 81,
   "metadata": {},
   "outputs": [
    {
     "name": "stdout",
     "output_type": "stream",
     "text": [
      "The most frequent letter at y    13\n",
      "dtype: int64\n",
      "The least frequent letter at 4    d\n",
      "dtype: object\n"
     ]
    },
    {
     "data": {
      "text/plain": [
       "13    y\n",
       "dtype: object"
      ]
     },
     "execution_count": 81,
     "metadata": {},
     "output_type": "execute_result"
    }
   ],
   "source": [
    "most_frequent = letters.value_counts().sort_values().tail(1)\n",
    "least_frequent = letters[letters.value_counts().sort_values().head(1)]\n",
    "\n",
    "print(f\"The most frequent letter at {most_frequent}\")\n",
    "print(f\"The least frequent letter at {least_frequent}\")\n",
    "\n",
    "#letters[letters.min()]\n",
    "letters[letters.value_counts().sort_values().head(1)]\n",
    "letters[letters.value_counts().sort_values().tail(1)]\n"
   ]
  },
  {
   "cell_type": "markdown",
   "metadata": {},
   "source": [
    "- How many vowels are in the list?"
   ]
  },
  {
   "cell_type": "code",
   "execution_count": 46,
   "metadata": {},
   "outputs": [
    {
     "data": {
      "text/plain": [
       "34"
      ]
     },
     "execution_count": 46,
     "metadata": {},
     "output_type": "execute_result"
    }
   ],
   "source": [
    "#fruits[fruits.str.contains(\"apple\", regex=True)]\n",
    "vowels = list(\"aeiou\")\n",
    "\n",
    "\n",
    "\n",
    "letters.isin(vowels).sum()"
   ]
  },
  {
   "cell_type": "markdown",
   "metadata": {},
   "source": [
    "- How many consonants are in the list?"
   ]
  },
  {
   "cell_type": "code",
   "execution_count": 47,
   "metadata": {},
   "outputs": [
    {
     "data": {
      "text/plain": [
       "166"
      ]
     },
     "execution_count": 47,
     "metadata": {},
     "output_type": "execute_result"
    }
   ],
   "source": [
    "vowels = list('aeiou')\n",
    "\n",
    "\n",
    "consonanats = letters.count() - letters.isin(vowels).sum()\n",
    "\n",
    "consonanats"
   ]
  },
  {
   "cell_type": "markdown",
   "metadata": {},
   "source": [
    "- Create a series that has all of the same letters, but uppercased"
   ]
  },
  {
   "cell_type": "code",
   "execution_count": 48,
   "metadata": {},
   "outputs": [
    {
     "data": {
      "text/plain": [
       "0      H\n",
       "1      N\n",
       "2      V\n",
       "3      I\n",
       "4      D\n",
       "      ..\n",
       "195    R\n",
       "196    O\n",
       "197    G\n",
       "198    U\n",
       "199    Y\n",
       "Length: 200, dtype: object"
      ]
     },
     "execution_count": 48,
     "metadata": {},
     "output_type": "execute_result"
    }
   ],
   "source": [
    "uppercased = letters.apply(lambda x: x.upper())\n",
    "uppercased"
   ]
  },
  {
   "cell_type": "markdown",
   "metadata": {},
   "source": [
    "- Create a bar plot of the frequencies of the 6 most frequently occuring letters."
   ]
  },
  {
   "cell_type": "code",
   "execution_count": 49,
   "metadata": {},
   "outputs": [
    {
     "data": {
      "text/plain": [
       "(array([0, 1, 2, 3, 4, 5]), <a list of 6 Text xticklabel objects>)"
      ]
     },
     "execution_count": 49,
     "metadata": {},
     "output_type": "execute_result"
    },
    {
     "data": {
      "image/png": "[encoded data removed]",
      "text/plain": [
       "<Figure size 432x288 with 1 Axes>"
      ]
     },
     "metadata": {
      "needs_background": "light"
     },
     "output_type": "display_data"
    }
   ],
   "source": [
    "import matplotlib.pyplot as plt\n",
    "%matplotlib inline\n",
    "barplot = letters.value_counts().sort_values(ascending=False).head(6)\n",
    "\n",
    "barplot.plot.bar(color=\"firebrick\")\n",
    "plt.xticks(rotation=0)"
   ]
  }
 ],
 "metadata": {
  "kernelspec": {
   "display_name": "Python 3",
   "language": "python",
   "name": "python3"
  },
  "language_info": {
   "codemirror_mode": {
    "name": "ipython",
    "version": 3
   },
   "file_extension": ".py",
   "mimetype": "text/x-python",
   "name": "python",
   "nbconvert_exporter": "python",
   "pygments_lexer": "ipython3",
   "version": "3.7.4"
  }
 },
 "nbformat": 4,
 "nbformat_minor": 2
}
